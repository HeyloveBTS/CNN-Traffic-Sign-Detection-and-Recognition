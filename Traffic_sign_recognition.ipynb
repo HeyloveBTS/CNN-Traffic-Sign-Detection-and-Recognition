{
  "cells": [
    {
      "cell_type": "code",
      "execution_count": null,
      "metadata": {
        "colab": {
          "base_uri": "https://localhost:8080/"
        },
        "id": "5Lc5GEqeORZA",
        "outputId": "52586a8a-6943-4bc7-b407-e8ead3015f0b"
      },
      "outputs": [],
      "source": [
        "!pip install opendatasets\n",
        "!pip install pandas"
      ]
    },
    {
      "cell_type": "code",
      "execution_count": null,
      "metadata": {
        "colab": {
          "base_uri": "https://localhost:8080/"
        },
        "id": "_mEkcKG9OnJd",
        "outputId": "0794c94f-609f-419e-aa76-6166e4638390"
      },
      "outputs": [],
      "source": [
        "import opendatasets as od\n",
        "import pandas\n",
        " \n",
        " #{\"username\":\"heylovebts\",\"key\":\"e1f3c4d75d84ca832a973bf07a5b2a33\"}\n",
        "od.download(\n",
        "    'https://www.kaggle.com/datasets/meowmeowmeowmeowmeow/gtsrb-german-traffic-sign')"
      ]
    },
    {
      "cell_type": "code",
      "execution_count": 4,
      "metadata": {
        "id": "FsjOENGuMe3j"
      },
      "outputs": [],
      "source": [
        "import os\n",
        "#Name the directory\n",
        "\n",
        "#google colab directory\n",
        "#data_dir = '/content/gtsrb-german-traffic-sign'\n",
        "#train_path = '/content/gtsrb-german-traffic-sign/Train'\n",
        "#test_path = '/content/gtsrb-german-traffic-sign/test'\n",
        "\n",
        "#vscode directory\n",
        "data_dir = './gtsrb-german-traffic-sign'\n",
        "train_path = './gtsrb-german-traffic-sign/Train'"
      ]
    },
    {
      "cell_type": "code",
      "execution_count": 5,
      "metadata": {
        "colab": {
          "base_uri": "https://localhost:8080/"
        },
        "id": "-cfytsJGN55u",
        "outputId": "98f5dd41-f1e4-470e-aae8-4d974cd56ca4"
      },
      "outputs": [
        {
          "name": "stdout",
          "output_type": "stream",
          "text": [
            "43\n"
          ]
        }
      ],
      "source": [
        "#The images are categorized into 44 folders based on their signs\n",
        "NumCategory = len(os.listdir(train_path))\n",
        "print(NumCategory)"
      ]
    },
    {
      "cell_type": "code",
      "execution_count": 6,
      "metadata": {
        "colab": {
          "base_uri": "https://localhost:8080/"
        },
        "id": "3RonzyLiQR4S",
        "outputId": "e5b0591a-9f74-48c6-f521-ea7cb5f4affb"
      },
      "outputs": [
        {
          "name": "stdout",
          "output_type": "stream",
          "text": [
            "12673\n"
          ]
        }
      ],
      "source": [
        "import matplotlib.pyplot as plt\n",
        "import numpy as np\n",
        "import PIL\n",
        "import tensorflow as tf\n",
        "import pathlib\n",
        "\n",
        "#tensorflow.org/api_docs/python/tf/keras/utils/image_dataset_from_directory\n",
        "data_dirCOUNT = pathlib.Path(data_dir)\n",
        "\n",
        "#25346 images in total\n",
        "image_count = len(list(data_dirCOUNT.glob('*/*.png')))\n",
        "print(image_count)"
      ]
    },
    {
      "cell_type": "code",
      "execution_count": 7,
      "metadata": {
        "id": "ifQ6YkCXR9px"
      },
      "outputs": [],
      "source": [
        "#Define parameters for the loader\n",
        "img_width = 30\n",
        "img_height = 30\n",
        "batch_size = 50\n",
        "EPOCHS = 10"
      ]
    },
    {
      "cell_type": "code",
      "execution_count": 8,
      "metadata": {
        "colab": {
          "base_uri": "https://localhost:8080/"
        },
        "id": "u69zQ271SEHC",
        "outputId": "78f30610-3ff6-4c8c-d241-727b7589575d"
      },
      "outputs": [
        {
          "name": "stdout",
          "output_type": "stream",
          "text": [
            "./gtsrb-german-traffic-sign/Train/0/\n",
            "./gtsrb-german-traffic-sign/Train/1/\n",
            "./gtsrb-german-traffic-sign/Train/2/\n",
            "./gtsrb-german-traffic-sign/Train/3/\n",
            "./gtsrb-german-traffic-sign/Train/4/\n",
            "./gtsrb-german-traffic-sign/Train/5/\n",
            "./gtsrb-german-traffic-sign/Train/6/\n",
            "./gtsrb-german-traffic-sign/Train/7/\n",
            "./gtsrb-german-traffic-sign/Train/8/\n",
            "./gtsrb-german-traffic-sign/Train/9/\n",
            "./gtsrb-german-traffic-sign/Train/10/\n",
            "./gtsrb-german-traffic-sign/Train/11/\n",
            "./gtsrb-german-traffic-sign/Train/12/\n",
            "./gtsrb-german-traffic-sign/Train/13/\n",
            "./gtsrb-german-traffic-sign/Train/14/\n",
            "./gtsrb-german-traffic-sign/Train/15/\n",
            "./gtsrb-german-traffic-sign/Train/16/\n",
            "./gtsrb-german-traffic-sign/Train/17/\n",
            "./gtsrb-german-traffic-sign/Train/18/\n",
            "./gtsrb-german-traffic-sign/Train/19/\n",
            "./gtsrb-german-traffic-sign/Train/20/\n",
            "./gtsrb-german-traffic-sign/Train/21/\n",
            "./gtsrb-german-traffic-sign/Train/22/\n",
            "./gtsrb-german-traffic-sign/Train/23/\n",
            "./gtsrb-german-traffic-sign/Train/24/\n",
            "./gtsrb-german-traffic-sign/Train/25/\n",
            "./gtsrb-german-traffic-sign/Train/26/\n",
            "./gtsrb-german-traffic-sign/Train/27/\n",
            "./gtsrb-german-traffic-sign/Train/28/\n",
            "./gtsrb-german-traffic-sign/Train/29/\n",
            "./gtsrb-german-traffic-sign/Train/30/\n",
            "./gtsrb-german-traffic-sign/Train/31/\n",
            "./gtsrb-german-traffic-sign/Train/32/\n",
            "./gtsrb-german-traffic-sign/Train/33/\n",
            "./gtsrb-german-traffic-sign/Train/34/\n",
            "./gtsrb-german-traffic-sign/Train/35/\n",
            "./gtsrb-german-traffic-sign/Train/36/\n",
            "./gtsrb-german-traffic-sign/Train/37/\n",
            "./gtsrb-german-traffic-sign/Train/38/\n",
            "./gtsrb-german-traffic-sign/Train/39/\n",
            "./gtsrb-german-traffic-sign/Train/40/\n",
            "./gtsrb-german-traffic-sign/Train/41/\n",
            "(38969, 30, 30, 3) (38969,)\n"
          ]
        }
      ],
      "source": [
        "#Labeling the training data\n",
        "import cv2\n",
        "from PIL import Image\n",
        "\n",
        "\n",
        "images_data = []\n",
        "labels = []\n",
        "\n",
        "\n",
        "#Load image data from directory `data_dir`\n",
        "for i in range(42): #/content/gtsrb-german-traffic-sign/category\n",
        "    path = train_path+'/{0}/'.format(i)\n",
        "    print(path)\n",
        "    images = os.listdir(path)\n",
        "\n",
        "    for img in images:\n",
        "    #https://www.geeksforgeeks.org/python-opencv-cv2-imread-method/\n",
        "    #This method returns an image that is loaded from the specified file\n",
        "      try:\n",
        "        image = cv2.imread(path + '/' + img)\n",
        "\n",
        "        #https://pillow.readthedocs.io/en/stable/reference/Image.html\n",
        "        #Creates an image memory from an object exporting the array interface (using the buffer protocol).\n",
        "        image_fromarray = Image.fromarray(image, 'RGB')\n",
        "        resize_image = image_fromarray.resize((30, 30))\n",
        "        images_data.append(np.array(resize_image))\n",
        "        labels.append(i)\n",
        "      except:\n",
        "        print(\"Error in \" + img)\n",
        "\n",
        "\n"
      ]
    },
    {
      "cell_type": "code",
      "execution_count": 18,
      "metadata": {},
      "outputs": [
        {
          "name": "stdout",
          "output_type": "stream",
          "text": [
            "(38969, 30, 30, 3) (38969,)\n"
          ]
        }
      ],
      "source": [
        "# Reform the lists to numpy arrays\n",
        "images = np.array(images_data)\n",
        "labels = np.array(labels)\n",
        "\n",
        "print(images.shape, labels.shape)"
      ]
    },
    {
      "cell_type": "code",
      "execution_count": 9,
      "metadata": {
        "id": "GqcLpw5GOaI9"
      },
      "outputs": [],
      "source": [
        "# Split data into training and testing sets\n",
        "from sklearn.model_selection import train_test_split\n",
        "\n",
        "X_train, X_test, y_train, y_test = train_test_split(images, labels, test_size=0.2, random_state=42)"
      ]
    },
    {
      "cell_type": "code",
      "execution_count": 10,
      "metadata": {
        "id": "7gxbuTZXtfG6"
      },
      "outputs": [
        {
          "name": "stdout",
          "output_type": "stream",
          "text": [
            "(31175, 43)\n",
            "(7794, 43)\n"
          ]
        }
      ],
      "source": [
        "#Converting the labels into one hot encoding\n",
        "from keras.utils import to_categorical\n",
        "\n",
        "y_train = to_categorical(y_train, NumCategory)\n",
        "y_test = to_categorical(y_test, NumCategory)\n",
        "\n",
        "print(y_train.shape)\n",
        "print(y_test.shape)"
      ]
    },
    {
      "cell_type": "code",
      "execution_count": 15,
      "metadata": {
        "id": "J6atN6saKV53"
      },
      "outputs": [],
      "source": [
        "from tensorflow import keras\n",
        "from tensorflow.keras import layers\n",
        "from tensorflow.keras.models import Sequential\n",
        "\n",
        "from sklearn.model_selection import train_test_split\n",
        "\n",
        "# Create a convolutional neural network\n",
        "model = tf.keras.models.Sequential([\n",
        "\n",
        "        # 2 Convolutional layer. Learn 32 filters using a 3x3 kernel with a max-pooling layer, using 2x2 pool size\n",
        "        tf.keras.layers.Conv2D(\n",
        "            32, (3, 3), activation=\"relu\", input_shape=(img_width, img_height, 3)\n",
        "        ),\n",
        "        tf.keras.layers.MaxPooling2D(pool_size=(2, 2)),\n",
        "        tf.keras.layers.Conv2D(\n",
        "            32, (3, 3), activation=\"relu\", input_shape=(img_width, img_height, 3)\n",
        "        ),\n",
        "        tf.keras.layers.MaxPooling2D(pool_size=(2, 2)),\n",
        "\n",
        "        # Flatten units\n",
        "        tf.keras.layers.Flatten(),\n",
        "\n",
        "        # Add a dense hidden layer with 256 units        \n",
        "        tf.keras.layers.Dense(256, activation=\"relu\"),\n",
        "        # Add a hidden layer with 40% dropout\n",
        "        tf.keras.layers.Dropout(0.4),\n",
        "\n",
        "        # Add an output layer with output units for each of the traffic sign categories\n",
        "        tf.keras.layers.Dense(NumCategory, activation=\"softmax\")\n",
        "        ])\n",
        "    \n",
        "# Train neural network\n",
        "model.compile(\n",
        "        optimizer=\"adam\",\n",
        "        loss = \"categorical_crossentropy\",\n",
        "        metrics=[\"accuracy\"]\n",
        "    )"
      ]
    },
    {
      "cell_type": "code",
      "execution_count": 16,
      "metadata": {
        "id": "B8GKG74DOMhZ"
      },
      "outputs": [
        {
          "name": "stdout",
          "output_type": "stream",
          "text": [
            "Epoch 1/10\n",
            "624/624 [==============================] - 13s 21ms/step - loss: 2.3653 - accuracy: 0.4985 - val_loss: 0.6436 - val_accuracy: 0.8340\n",
            "Epoch 2/10\n",
            "624/624 [==============================] - 14s 22ms/step - loss: 0.5618 - accuracy: 0.8377 - val_loss: 0.2591 - val_accuracy: 0.9301\n",
            "Epoch 3/10\n",
            "624/624 [==============================] - 13s 21ms/step - loss: 0.3402 - accuracy: 0.9016 - val_loss: 0.1963 - val_accuracy: 0.9506\n",
            "Epoch 4/10\n",
            "624/624 [==============================] - 13s 22ms/step - loss: 0.2691 - accuracy: 0.9254 - val_loss: 0.1532 - val_accuracy: 0.9619\n",
            "Epoch 5/10\n",
            "624/624 [==============================] - 13s 21ms/step - loss: 0.2027 - accuracy: 0.9425 - val_loss: 0.1564 - val_accuracy: 0.9610\n",
            "Epoch 6/10\n",
            "624/624 [==============================] - 13s 21ms/step - loss: 0.1905 - accuracy: 0.9475 - val_loss: 0.1631 - val_accuracy: 0.9613\n",
            "Epoch 7/10\n",
            "624/624 [==============================] - 14s 22ms/step - loss: 0.1683 - accuracy: 0.9540 - val_loss: 0.1460 - val_accuracy: 0.9675\n",
            "Epoch 8/10\n",
            "624/624 [==============================] - 13s 21ms/step - loss: 0.1454 - accuracy: 0.9600 - val_loss: 0.1479 - val_accuracy: 0.9651\n",
            "Epoch 9/10\n",
            "624/624 [==============================] - 13s 21ms/step - loss: 0.1470 - accuracy: 0.9600 - val_loss: 0.0959 - val_accuracy: 0.9774\n",
            "Epoch 10/10\n",
            "624/624 [==============================] - 13s 20ms/step - loss: 0.1496 - accuracy: 0.9604 - val_loss: 0.1419 - val_accuracy: 0.9752\n"
          ]
        },
        {
          "data": {
            "text/plain": [
              "<keras.callbacks.History at 0x1469105b0>"
            ]
          },
          "execution_count": 16,
          "metadata": {},
          "output_type": "execute_result"
        }
      ],
      "source": [
        "# Fit model on training data\n",
        "model.fit(X_train, y_train, batch_size=batch_size, epochs=EPOCHS, validation_data=(X_test, y_test))"
      ]
    },
    {
      "cell_type": "code",
      "execution_count": 17,
      "metadata": {
        "id": "bUak7v_zulG7"
      },
      "outputs": [
        {
          "name": "stdout",
          "output_type": "stream",
          "text": [
            "244/244 - 1s - loss: 0.1419 - accuracy: 0.9752 - 928ms/epoch - 4ms/step\n"
          ]
        },
        {
          "data": {
            "text/plain": [
              "[0.141885906457901, 0.9752373695373535]"
            ]
          },
          "execution_count": 17,
          "metadata": {},
          "output_type": "execute_result"
        }
      ],
      "source": [
        "# Evaluate neural network performance\n",
        "model.evaluate(X_test,  y_test, verbose=2)"
      ]
    }
  ],
  "metadata": {
    "colab": {
      "provenance": []
    },
    "kernelspec": {
      "display_name": "Python 3.9.5 64-bit",
      "language": "python",
      "name": "python3"
    },
    "language_info": {
      "codemirror_mode": {
        "name": "ipython",
        "version": 3
      },
      "file_extension": ".py",
      "mimetype": "text/x-python",
      "name": "python",
      "nbconvert_exporter": "python",
      "pygments_lexer": "ipython3",
      "version": "3.9.5"
    },
    "vscode": {
      "interpreter": {
        "hash": "aee8b7b246df8f9039afb4144a1f6fd8d2ca17a180786b69acc140d282b71a49"
      }
    }
  },
  "nbformat": 4,
  "nbformat_minor": 0
}
